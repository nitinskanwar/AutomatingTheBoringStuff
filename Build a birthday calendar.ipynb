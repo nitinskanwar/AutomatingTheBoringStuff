{
 "cells": [
  {
   "cell_type": "code",
   "execution_count": 37,
   "metadata": {},
   "outputs": [],
   "source": [
    "from pathlib import Path\n",
    "import pickle"
   ]
  },
  {
   "cell_type": "markdown",
   "metadata": {},
   "source": [
    "### Creating a dictionary to keep the birthdates of my family and friends\n",
    "* Need to add reminders\n",
    "* Need to create popups and email notifications to wish birthdays\n",
    "* Add option to update information and add new information"
   ]
  },
  {
   "cell_type": "code",
   "execution_count": 66,
   "metadata": {},
   "outputs": [
    {
     "name": "stdout",
     "output_type": "stream",
     "text": [
      "Please enter your name : Nitin Kanwar\n",
      "Please enter your birthdate : 19 June 88\n",
      "Do you want to continue? : Y\n",
      "Please enter your name : Jitin Kanwar\n",
      "Please enter your birthdate : 22 June 1990\n",
      "Do you want to continue? : n\n"
     ]
    }
   ],
   "source": [
    "# Saving birthdate information in text file without pickle\n",
    "choice = 'yes'\n",
    "while(choice == 'yes' or choice == 'y' or choice == 'Y' or choice == 'Yes'):\n",
    "    list_birthdate = {}\n",
    "    name = input(\"Please enter your name : \")\n",
    "    birthdate = input(\"Please enter your birthdate : \")\n",
    "    \n",
    "    list_birthdate['name'] = name\n",
    "    list_birthdate['birthdate'] = birthdate\n",
    "    \n",
    "    my_file = Path(\"birthday_calendar.txt\")\n",
    "    if my_file.exists():\n",
    "        save_to_file = open(my_file,'a+')\n",
    "        save_to_file.write(str(list_birthdate))\n",
    "        save_to_file.close()\n",
    "    else:\n",
    "        save_to_file = open(my_file,'w+')\n",
    "        save_to_file.write(str(list_birthdate))\n",
    "        save_to_file.close()\n",
    "    \n",
    "    choice = input(\"Do you want to continue? : \")"
   ]
  },
  {
   "cell_type": "code",
   "execution_count": 68,
   "metadata": {},
   "outputs": [
    {
     "name": "stdout",
     "output_type": "stream",
     "text": [
      "{'name': 'Nitin Kanwar', 'birthdate': '19 June 1988'}{'name': 'Jitin Kanwar', 'birthdate': '22 June 1990'}\n",
      "\n"
     ]
    }
   ],
   "source": [
    "# Reading birthdate file\n",
    "if my_file.exists():\n",
    "    open_file = open(my_file,'r')\n",
    "    contents = open_file.read()\n",
    "    print(contents)"
   ]
  },
  {
   "cell_type": "code",
   "execution_count": 61,
   "metadata": {},
   "outputs": [
    {
     "name": "stdout",
     "output_type": "stream",
     "text": [
      "Please enter your name : NK\n",
      "Please enter your birthdate : June\n",
      "Do you want to continue? : y\n",
      "Please enter your name : JK\n",
      "Please enter your birthdate : June\n",
      "Do you want to continue? : n\n"
     ]
    }
   ],
   "source": [
    "# Getting birthdate information with pickle\n",
    "choice = 'yes'\n",
    "loaded_list = []\n",
    "while(choice == 'yes' or choice == 'y' or choice == 'Y' or choice == 'Yes'):\n",
    "    dict_birthdate = {}\n",
    "    name = input(\"Please enter your name : \")\n",
    "    birthdate = input(\"Please enter your birthdate : \")\n",
    "    \n",
    "    dict_birthdate['name'] = name\n",
    "    dict_birthdate['birthdate'] = birthdate\n",
    "      \n",
    "    my_file = Path(\"birthday_calendar.p\")\n",
    "    if my_file.exists():\n",
    "        save_to_file = open(my_file,'rb')\n",
    "        loaded_list = pickle.load(save_to_file)\n",
    "        \n",
    "    loaded_list.append(dict_birthdate)\n",
    "    save_to_file = open(my_file,'wb')\n",
    "    pickle.dump(loaded_list, save_to_file)\n",
    "    save_to_file.close()\n",
    "    \n",
    "    choice = input(\"Do you want to continue? : \")"
   ]
  },
  {
   "cell_type": "code",
   "execution_count": 75,
   "metadata": {},
   "outputs": [
    {
     "name": "stdout",
     "output_type": "stream",
     "text": [
      "[{'name': 'NK', 'birthdate': 'June'}, {'name': 'JK', 'birthdate': 'June'}]\n",
      "{'name': 'NK', 'birthdate': 'June'}\n",
      "{'name': 'JK', 'birthdate': 'June'}\n"
     ]
    }
   ],
   "source": [
    "# Reading birthdate file\n",
    "my_file = Path(\"birthday_calendar.p\")\n",
    "if my_file.exists():\n",
    "    open_file = open(my_file,'rb')\n",
    "    contents = pickle.load(open_file)\n",
    "    print(contents)\n",
    "    \n",
    "    for i in contents:\n",
    "        print(i)\n",
    "    "
   ]
  }
 ],
 "metadata": {
  "kernelspec": {
   "display_name": "Python 3",
   "language": "python",
   "name": "python3"
  },
  "language_info": {
   "codemirror_mode": {
    "name": "ipython",
    "version": 3
   },
   "file_extension": ".py",
   "mimetype": "text/x-python",
   "name": "python",
   "nbconvert_exporter": "python",
   "pygments_lexer": "ipython3",
   "version": "3.6.4"
  }
 },
 "nbformat": 4,
 "nbformat_minor": 2
}
